{
 "cells": [
  {
   "cell_type": "code",
   "execution_count": 0,
   "metadata": {
    "collapsed": false
   },
   "outputs": [
   ],
   "source": [
    "#Numpy Attributes & Methods"
   ]
  },
  {
   "cell_type": "code",
   "execution_count": 0,
   "metadata": {
    "collapsed": false
   },
   "outputs": [
   ],
   "source": [
    "#Numpy Array"
   ]
  },
  {
   "cell_type": "code",
   "execution_count": 2,
   "metadata": {
    "collapsed": false
   },
   "outputs": [
   ],
   "source": [
    "import numpy as np\n",
    "arr = np.array([1,2,3,4,5])"
   ]
  },
  {
   "cell_type": "code",
   "execution_count": 3,
   "metadata": {
    "collapsed": false
   },
   "outputs": [
    {
     "name": "stdout",
     "output_type": "stream",
     "text": [
      "<memory at 0x7f1a54ae4f40>\n"
     ]
    }
   ],
   "source": [
    "#1\n",
    "#ndarray.data\n",
    "#Python buffer object pointing to the start of the array’s data\n",
    "arr = np.array([1,2,3,4,5])\n",
    "print(arr.data)"
   ]
  },
  {
   "cell_type": "code",
   "execution_count": 4,
   "metadata": {
    "collapsed": false
   },
   "outputs": [
    {
     "name": "stdout",
     "output_type": "stream",
     "text": [
      "5\n"
     ]
    }
   ],
   "source": [
    "#2\n",
    "#ndarray.size\n",
    "#Number of elements in the array\n",
    "arr = np.array([1,2,3,4,5])\n",
    "print(arr.size)"
   ]
  },
  {
   "cell_type": "code",
   "execution_count": 5,
   "metadata": {
    "collapsed": false
   },
   "outputs": [
    {
     "name": "stdout",
     "output_type": "stream",
     "text": [
      "40\n"
     ]
    }
   ],
   "source": [
    "#3\n",
    "#ndarray.nbytes\n",
    "#Total bytes consumed by the elements of the array\n",
    "arr = np.array([1,2,3,4,5])\n",
    "print(arr.nbytes)"
   ]
  },
  {
   "cell_type": "code",
   "execution_count": 7,
   "metadata": {
    "collapsed": false
   },
   "outputs": [
    {
     "name": "stdout",
     "output_type": "stream",
     "text": [
      "(8,)\n"
     ]
    }
   ],
   "source": [
    "#4\n",
    "#ndarray.strides\n",
    "#Tuple of bytes to step in each dimension when traversing an array\n",
    "arr = np.array([1,2,3,4,5])\n",
    "print(arr.strides)"
   ]
  },
  {
   "cell_type": "code",
   "execution_count": 8,
   "metadata": {
    "collapsed": false
   },
   "outputs": [
    {
     "name": "stdout",
     "output_type": "stream",
     "text": [
      "1\n",
      "3\n"
     ]
    }
   ],
   "source": [
    "#5\n",
    "#ndarray.flat\n",
    "arr = np.array([1,2,3,4,5])\n",
    "print(arr.flat[0])\n",
    "print(arr.flat[2])"
   ]
  },
  {
   "cell_type": "code",
   "execution_count": 9,
   "metadata": {
    "collapsed": false
   },
   "outputs": [
    {
     "name": "stdout",
     "output_type": "stream",
     "text": [
      "<numpy.core._internal._ctypes object at 0x7f1a54a5bd00>\n"
     ]
    }
   ],
   "source": [
    "#6\n",
    "#ndarray.ctypes\n",
    "#An object to simplify the interaction of the array with the ctypes module\n",
    "arr = np.array([1,2,3,4,5])\n",
    "print(arr.ctypes)"
   ]
  },
  {
   "cell_type": "code",
   "execution_count": 10,
   "metadata": {
    "collapsed": false
   },
   "outputs": [
    {
     "name": "stdout",
     "output_type": "stream",
     "text": [
      "None\n"
     ]
    }
   ],
   "source": [
    "#7\n",
    "#ndarray.base\n",
    "#Base object if memory is from some other object\n",
    "arr = np.array([1,2,3,4,5])\n",
    "print(arr.base)"
   ]
  },
  {
   "cell_type": "code",
   "execution_count": 11,
   "metadata": {
    "collapsed": false
   },
   "outputs": [
    {
     "name": "stdout",
     "output_type": "stream",
     "text": [
      "[2]\n"
     ]
    }
   ],
   "source": [
    "#8\n",
    "#ndarray.compress\n",
    "#Return selected slices of this array along given axis\n",
    "arr = np.array([1,2,3,4,5])\n",
    "print(np.compress([0, 1], arr, axis=0))"
   ]
  },
  {
   "cell_type": "code",
   "execution_count": 12,
   "metadata": {
    "collapsed": false
   },
   "outputs": [
    {
     "name": "stdout",
     "output_type": "stream",
     "text": [
      "[3 3 3 3]\n"
     ]
    }
   ],
   "source": [
    "#9\n",
    "#ndarray.repeat\n",
    "#Repeat elements of an array\n",
    "print(np.repeat(3, 4))"
   ]
  },
  {
   "cell_type": "code",
   "execution_count": 13,
   "metadata": {
    "collapsed": false
   },
   "outputs": [
    {
     "name": "stdout",
     "output_type": "stream",
     "text": [
      "15\n"
     ]
    }
   ],
   "source": [
    "#10\n",
    "#ndarray.sum\n",
    "#Return the sum of the array elements over the given axis\n",
    "arr = np.array([1,2,3,4,5])\n",
    "print(np.sum(arr))"
   ]
  },
  {
   "cell_type": "code",
   "execution_count": 14,
   "metadata": {
    "collapsed": false
   },
   "outputs": [
    {
     "name": "stdout",
     "output_type": "stream",
     "text": [
      "[[1 0 0 0 2 0 0 0 3 0 0 0 4 0 0 0 5 0 0 0]]\n"
     ]
    }
   ],
   "source": [
    "#11\n",
    "#ndarray.view\n",
    "#New view of array with the same data\n",
    "arr = np.array([1,2,3,4,5])\n",
    "print(arr.view(dtype=np.int16,type=np.matrix))"
   ]
  },
  {
   "cell_type": "code",
   "execution_count": 15,
   "metadata": {
    "collapsed": false
   },
   "outputs": [
    {
     "name": "stdout",
     "output_type": "stream",
     "text": [
      "True\n",
      "False\n"
     ]
    }
   ],
   "source": [
    "#12\n",
    "#ndarray.all\n",
    "#Returns True if all elements evaluate to True\n",
    "arr = np.array([1,2,3,4,5])\n",
    "print(np.all(arr))\n",
    "print(np.all([0,1,0,0]))"
   ]
  },
  {
   "cell_type": "code",
   "execution_count": 16,
   "metadata": {
    "collapsed": false
   },
   "outputs": [
    {
     "name": "stdout",
     "output_type": "stream",
     "text": [
      "[20 31 12  3]\n"
     ]
    }
   ],
   "source": [
    "#13\n",
    "#ndarray.choose\n",
    "#Use an index array to construct a new array from a set of choices\n",
    "choices = [[0, 1, 2, 3], [10, 11, 12, 13],[20, 21, 22, 23], [30, 31, 32, 33]]\n",
    "print(np.choose([2, 3, 1, 0], choices))"
   ]
  },
  {
   "cell_type": "code",
   "execution_count": 17,
   "metadata": {
    "collapsed": false
   },
   "outputs": [
    {
     "name": "stdout",
     "output_type": "stream",
     "text": [
      "[1 3]\n"
     ]
    }
   ],
   "source": [
    "#14\n",
    "#ndarray.diagonal\n",
    "#Return specified diagonals\n",
    "a=np.array([[1,2],[2,3]])\n",
    "print(np.diagonal(a))"
   ]
  },
  {
   "cell_type": "code",
   "execution_count": 18,
   "metadata": {
    "collapsed": false
   },
   "outputs": [
    {
     "name": "stdout",
     "output_type": "stream",
     "text": [
      "[-44   2 -55   4   5]\n"
     ]
    }
   ],
   "source": [
    "#15\n",
    "#ndarray.put\n",
    "#set a.flat[n] = values[n] for all n in indices\n",
    "arr = np.array([1,2,3,4,5])\n",
    "np.put(arr, [0, 2], [-44, -55])\n",
    "print(arr)"
   ]
  },
  {
   "cell_type": "code",
   "execution_count": 19,
   "metadata": {
    "collapsed": false
   },
   "outputs": [
    {
     "name": "stdout",
     "output_type": "stream",
     "text": [
      "[5 7]\n"
     ]
    }
   ],
   "source": [
    "#16\n",
    "#ndarray.take\n",
    "#Return an array formed from the elements of a at the given indices\n",
    "a = [5, 7, 2, 3, 4]\n",
    "indices = [0, 1]\n",
    "print(np.take(a, indices))"
   ]
  },
  {
   "cell_type": "code",
   "execution_count": 20,
   "metadata": {
    "collapsed": false
   },
   "outputs": [
    {
     "name": "stdout",
     "output_type": "stream",
     "text": [
      "4\n"
     ]
    }
   ],
   "source": [
    "#17\n",
    "#ndarray.trace\n",
    "#Return the sum along diagonals of the array\n",
    "a=np.array([[1,2],[2,3]])\n",
    "print(np.trace(a))"
   ]
  },
  {
   "cell_type": "code",
   "execution_count": 21,
   "metadata": {
    "collapsed": false
   },
   "outputs": [
    {
     "name": "stdout",
     "output_type": "stream",
     "text": [
      "0.5\n"
     ]
    }
   ],
   "source": [
    "#18\n",
    "#ndarray.var\n",
    "#Returns the variance of the array elements, along given axis\n",
    "a=np.array([[1,2],[2,3]])\n",
    "print(np.var(a))"
   ]
  },
  {
   "cell_type": "code",
   "execution_count": 22,
   "metadata": {
    "collapsed": false
   },
   "outputs": [
    {
     "name": "stdout",
     "output_type": "stream",
     "text": [
      "[1 2 2 3]\n"
     ]
    }
   ],
   "source": [
    "#19\n",
    "#ndarray.ravel\n",
    "#Return a flattened array\n",
    "a=np.array([[1,2],[2,3]])\n",
    "print(np.ravel(a))"
   ]
  },
  {
   "cell_type": "code",
   "execution_count": 23,
   "metadata": {
    "collapsed": false
   },
   "outputs": [
    {
     "name": "stdout",
     "output_type": "stream",
     "text": [
      "[0 1 5 7]\n"
     ]
    }
   ],
   "source": [
    "#20\n",
    "#ndarray.partition\n",
    "#Rearranges the elements in the array in such a way that the value of the element in kth position is in the position it would be in a sorted array\n",
    "a=np.array([1,7,0,5])\n",
    "a.partition(3)\n",
    "print(a)"
   ]
  },
  {
   "cell_type": "code",
   "execution_count": 24,
   "metadata": {
    "collapsed": false
   },
   "outputs": [
    {
     "name": "stdout",
     "output_type": "stream",
     "text": [
      "3\n"
     ]
    }
   ],
   "source": [
    "#21\n",
    "#ndarray.argmax\n",
    "#Return indices of the maximum values along the given axis\n",
    "a=np.array([1,4,0,5])\n",
    "print(np.argmax(a))"
   ]
  },
  {
   "cell_type": "code",
   "execution_count": 25,
   "metadata": {
    "collapsed": false
   },
   "outputs": [
    {
     "name": "stdout",
     "output_type": "stream",
     "text": [
      "2\n"
     ]
    }
   ],
   "source": [
    "#22\n",
    "#ndarray.argmin\n",
    "#Return indices of the minimum values along the given axis of a\n",
    "a=np.array([1,4,0,5])\n",
    "print(np.argmin(a))"
   ]
  },
  {
   "cell_type": "code",
   "execution_count": 27,
   "metadata": {
    "collapsed": false
   },
   "outputs": [
    {
     "name": "stdout",
     "output_type": "stream",
     "text": [
      "5\n"
     ]
    }
   ],
   "source": [
    "#23\n",
    "#ndarray.ptp\n",
    "#Peak to peak (maximum - minimum) value along a given axis\n",
    "a=np.array([1,4,0,5])\n",
    "print(np.ptp(a))"
   ]
  },
  {
   "cell_type": "code",
   "execution_count": 28,
   "metadata": {
    "collapsed": false
   },
   "outputs": [
    {
     "name": "stdout",
     "output_type": "stream",
     "text": [
      "(1-2j)\n"
     ]
    }
   ],
   "source": [
    "#24\n",
    "#ndarray.conj\n",
    "#Complex-conjugate all elements\n",
    "print(np.conjugate(1+2j))"
   ]
  },
  {
   "cell_type": "code",
   "execution_count": 29,
   "metadata": {
    "collapsed": false
   },
   "outputs": [
    {
     "name": "stdout",
     "output_type": "stream",
     "text": [
      "[2 0 1 3]\n"
     ]
    }
   ],
   "source": [
    "#25\n",
    "#ndarray.argsort\n",
    "#Returns the indices that would sort this array\n",
    "a=np.array([1,4,0,5])\n",
    "print(np.argsort(a))"
   ]
  },
  {
   "cell_type": "code",
   "execution_count": 30,
   "metadata": {
    "collapsed": false
   },
   "outputs": [
    {
     "name": "stdout",
     "output_type": "stream",
     "text": [
      "[2 1 3 4]\n"
     ]
    }
   ],
   "source": [
    "#26\n",
    "#ndarray.argpartition\n",
    "#Returns the indices that would partition this array\n",
    "x = np.array([3, 4, 2, 1])\n",
    "print(x[np.argpartition(x, 3)])"
   ]
  },
  {
   "cell_type": "code",
   "execution_count": 31,
   "metadata": {
    "collapsed": false
   },
   "outputs": [
    {
     "name": "stdout",
     "output_type": "stream",
     "text": [
      "20\n"
     ]
    }
   ],
   "source": [
    "#27\n",
    "#ndarray.prod\n",
    "#Return the product of the array elements over the given axis\n",
    "a=np.array([1,4,1,5])\n",
    "print(np.prod(a))"
   ]
  },
  {
   "cell_type": "code",
   "execution_count": 32,
   "metadata": {
    "collapsed": false
   },
   "outputs": [
    {
     "name": "stdout",
     "output_type": "stream",
     "text": [
      "1.7853571071357126\n"
     ]
    }
   ],
   "source": [
    "#28\n",
    "#ndarray.std\n",
    "#Returns the standard deviation of the array elements along given axis\n",
    "a=np.array([1,4,1,5])\n",
    "print(np.std(a))"
   ]
  },
  {
   "cell_type": "code",
   "execution_count": 33,
   "metadata": {
    "collapsed": false
   },
   "outputs": [
    {
     "name": "stdout",
     "output_type": "stream",
     "text": [
      "[[[ 0  7]\n",
      "  [ 3  6]]\n",
      "\n",
      " [[ 1 10]\n",
      "  [ 5  7]]]\n"
     ]
    }
   ],
   "source": [
    "#29\n",
    "#ndarray.swapaxes\n",
    "#Return a view of the array with axis1 and axis2 interchanged\n",
    "a=np.array([[[0,1],[3,5]],[[7,10],[6,7]]])\n",
    "print(np.swapaxes(a,0,2))"
   ]
  },
  {
   "cell_type": "code",
   "execution_count": 34,
   "metadata": {
    "collapsed": false
   },
   "outputs": [
    {
     "name": "stdout",
     "output_type": "stream",
     "text": [
      "[[3 8]\n",
      " [9 4]]\n"
     ]
    }
   ],
   "source": [
    "#30\n",
    "#ndarray.transpose\n",
    "#Returns a view of the array with axes transposed\n",
    "a = np.array([[3, 9], [8, 4]])\n",
    "print(np.transpose(a))"
   ]
  },
  {
   "cell_type": "code",
   "execution_count": 35,
   "metadata": {
    "collapsed": false
   },
   "outputs": [
    {
     "name": "stdout",
     "output_type": "stream",
     "text": [
      "(2, 3)\n"
     ]
    }
   ],
   "source": [
    "#31\n",
    "#ndarray.shape\n",
    "#Tuple of array dimensions\n",
    "import numpy as np \n",
    "a = np.array([[1,2,3],[4,5,6]]) \n",
    "print (a.shape)"
   ]
  },
  {
   "cell_type": "code",
   "execution_count": 36,
   "metadata": {
    "collapsed": false
   },
   "outputs": [
    {
     "name": "stdout",
     "output_type": "stream",
     "text": [
      "[[1 2]\n",
      " [3 4]\n",
      " [5 6]]\n"
     ]
    }
   ],
   "source": [
    "#32\n",
    "#ndarray.resize\n",
    "#Change shape and size of array in-place\n",
    "import numpy as np \n",
    "a = np.array([[1,2,3],[4,5,6]]) \n",
    "a.shape = (3,2) \n",
    "print (a)"
   ]
  },
  {
   "cell_type": "code",
   "execution_count": 38,
   "metadata": {
    "collapsed": false
   },
   "outputs": [
    {
     "name": "stdout",
     "output_type": "stream",
     "text": [
      "[ 0  1  2  3  4  5  6  7  8  9 10 11 12 13 14 15 16 17 18 19 20 21 22 23]\n"
     ]
    }
   ],
   "source": [
    "#33\n",
    "#ndarray.ndm\n",
    "#Number of array dimensions\n",
    "import numpy as np \n",
    "a = np.arange(24) \n",
    "print (a)"
   ]
  },
  {
   "cell_type": "code",
   "execution_count": 37,
   "metadata": {
    "collapsed": false
   },
   "outputs": [
    {
     "name": "stdout",
     "output_type": "stream",
     "text": [
      "1\n"
     ]
    }
   ],
   "source": [
    "#34\n",
    "#ndarray.itemsize\n",
    "#Length of one array element in bytes\n",
    "import numpy as np \n",
    "x = np.array([1,2,3,4,5], dtype = np.int8) \n",
    "print (x.itemsize)"
   ]
  },
  {
   "cell_type": "code",
   "execution_count": 39,
   "metadata": {
    "collapsed": false
   },
   "outputs": [
    {
     "name": "stdout",
     "output_type": "stream",
     "text": [
      "  C_CONTIGUOUS : True\n",
      "  F_CONTIGUOUS : True\n",
      "  OWNDATA : True\n",
      "  WRITEABLE : True\n",
      "  ALIGNED : True\n",
      "  WRITEBACKIFCOPY : False\n",
      "  UPDATEIFCOPY : False\n",
      "\n"
     ]
    }
   ],
   "source": [
    "#35\n",
    "#ndarray.flags\n",
    "#Information about the memory layout of the array\n",
    "import numpy as np \n",
    "x = np.array([1,2,3,4,5]) \n",
    "print (x.flags)"
   ]
  },
  {
   "cell_type": "code",
   "execution_count": 40,
   "metadata": {
    "collapsed": false
   },
   "outputs": [
    {
     "name": "stdout",
     "output_type": "stream",
     "text": [
      "int64\n"
     ]
    }
   ],
   "source": [
    "#36\n",
    "#ndarray.dtype\n",
    "#Data-type of the array’s elements\n",
    "import numpy as np\n",
    "arr = np.array([1,2,3,4])\n",
    "print (arr.dtype)"
   ]
  },
  {
   "cell_type": "code",
   "execution_count": 41,
   "metadata": {
    "collapsed": false
   },
   "outputs": [
    {
     "name": "stdout",
     "output_type": "stream",
     "text": [
      "[ 3.  7. 11.]\n"
     ]
    }
   ],
   "source": [
    "#37\n",
    "#ndarray.imag\n",
    "#The imaginary part of the array\n",
    "import numpy as np\n",
    "a = np.array([1+3j,5+7j,9+11j])\n",
    "b = a.imag\n",
    "print (b)"
   ]
  },
  {
   "cell_type": "code",
   "execution_count": 42,
   "metadata": {
    "collapsed": false
   },
   "outputs": [
    {
     "name": "stdout",
     "output_type": "stream",
     "text": [
      "[1. 5. 9.]\n"
     ]
    }
   ],
   "source": [
    "#38 \n",
    "#ndarray.real\n",
    "#The real part of the array\n",
    "import numpy as np\n",
    "arr = np.array([1+3j, 5+7j, 9+11j])\n",
    "b = arr.real\n",
    "print (b)"
   ]
  },
  {
   "cell_type": "code",
   "execution_count": 43,
   "metadata": {
    "collapsed": false
   },
   "outputs": [
    {
     "name": "stdout",
     "output_type": "stream",
     "text": [
      "[2 2 3 4 5 6 6 6]\n"
     ]
    }
   ],
   "source": [
    "#39\n",
    "#ndarray.clip\n",
    "#Return an array whose values are limited to [min, max]\n",
    "inarray = [1,2,3,4,5,6,7,8]\n",
    "outarray = np.clip(inarray, a_min = 2, a_max = 6)\n",
    "print(outarray)"
   ]
  },
  {
   "cell_type": "code",
   "execution_count": 44,
   "metadata": {
    "collapsed": false
   },
   "outputs": [
    {
     "name": "stdout",
     "output_type": "stream",
     "text": [
      "[[0 1 2 3]\n",
      " [4 5 6 7]]\n"
     ]
    }
   ],
   "source": [
    "#40\n",
    "#ndarray.copy\n",
    "#Return a copy of the array\n",
    "x = np.array([[0,1,2,3], [4,5,6,7]], order ='F')\n",
    "y=x.copy()\n",
    "print(y)"
   ]
  },
  {
   "cell_type": "code",
   "execution_count": 45,
   "metadata": {
    "collapsed": false
   },
   "outputs": [
    {
     "name": "stdout",
     "output_type": "stream",
     "text": [
      "maximum  20\n"
     ]
    }
   ],
   "source": [
    "#41\n",
    "#ndarray.max\n",
    "#Return the maximum along a given axis\n",
    "n = 10\n",
    "m = 20\n",
    "print(\"maximum \",np.maximum(n,m))"
   ]
  },
  {
   "cell_type": "code",
   "execution_count": 46,
   "metadata": {
    "collapsed": false
   },
   "outputs": [
    {
     "name": "stdout",
     "output_type": "stream",
     "text": [
      "Minimum 10\n"
     ]
    }
   ],
   "source": [
    "#42\n",
    "#ndarray.min\n",
    "#Return the minimum along a given axis\n",
    "print(\"Minimum\",np.minimum(n,m))"
   ]
  },
  {
   "cell_type": "code",
   "execution_count": 47,
   "metadata": {
    "collapsed": false
   },
   "outputs": [
    {
     "name": "stdout",
     "output_type": "stream",
     "text": [
      "12.8\n"
     ]
    }
   ],
   "source": [
    "#43\n",
    "#ndarray.mean\n",
    "#Returns the average of the array elements along given axis\n",
    "arr = [20,2,7,1,34]\n",
    "print(np.mean(arr))"
   ]
  },
  {
   "cell_type": "code",
   "execution_count": 51,
   "metadata": {
    "collapsed": false
   },
   "outputs": [
    {
     "name": "stdout",
     "output_type": "stream",
     "text": [
      "[0. 2. 2.]\n"
     ]
    }
   ],
   "source": [
    "#44\n",
    "#ndarray.round\n",
    "#Return a with each element rounded to the given number of decimals\n",
    "arr = [.5,1.5,2.5]\n",
    "round_off = np.round(arr)\n",
    "print(round_off)"
   ]
  },
  {
   "cell_type": "code",
   "execution_count": 49,
   "metadata": {
    "collapsed": false
   },
   "outputs": [
    {
     "name": "stdout",
     "output_type": "stream",
     "text": [
      "[[10  1]\n",
      " [12 15]]\n"
     ]
    }
   ],
   "source": [
    "#45\n",
    "#ndarray.sort\n",
    "#Sort an array in-place\n",
    "a = np.array([[12,15],[10,1]])\n",
    "arr1 = np.sort(a,axis = 0)\n",
    "print(arr1)"
   ]
  },
  {
   "cell_type": "code",
   "execution_count": 50,
   "metadata": {
    "collapsed": false
   },
   "outputs": [
    {
     "name": "stdout",
     "output_type": "stream",
     "text": [
      "[[2 2 2]\n",
      " [2 2 2]]\n"
     ]
    }
   ],
   "source": [
    "#46\n",
    "#ndarray.squeeze\n",
    "#Remove single-dimensional entries from the shape of a\n",
    "arr = np.array([[[2,2,2],[2,2,2]]])\n",
    "out_arr = np.squeeze(arr)\n",
    "print(out_arr)"
   ]
  },
  {
   "cell_type": "code",
   "execution_count": 52,
   "metadata": {
    "collapsed": false
   },
   "outputs": [
    {
     "name": "stdout",
     "output_type": "stream",
     "text": [
      "[[1. 1. 1.]\n",
      " [1. 1. 1.]\n",
      " [1. 1. 1.]]\n"
     ]
    }
   ],
   "source": [
    "#47\n",
    "#ndarray.fill\n",
    "#Fill the array with a scalar value\n",
    "a = np.empty([3,3])\n",
    "for i in range(3):\n",
    "\tfor j in range(3):\n",
    "\t\ta[i][j] = 1\n",
    "a.fill(1)\n",
    "print(a)"
   ]
  },
  {
   "cell_type": "code",
   "execution_count": 53,
   "metadata": {
    "collapsed": false
   },
   "outputs": [
    {
     "name": "stdout",
     "output_type": "stream",
     "text": [
      "(array([0, 1, 2, 2]), array([1, 0, 0, 2]))\n"
     ]
    }
   ],
   "source": [
    "#48\n",
    "#ndarray.nonzero\n",
    "#Return the indices of the elements that are non-zero\n",
    "arr = np.array([[0,8,0], [7,0,0],[-5,0,1]])\n",
    "out_tpl = np.nonzero(arr)\n",
    "print(out_tpl)"
   ]
  },
  {
   "cell_type": "code",
   "execution_count": 55,
   "metadata": {
    "collapsed": false
   },
   "outputs": [
    {
     "name": "stdout",
     "output_type": "stream",
     "text": [
      "[[ 1  2  3]\n",
      " [ 4  5  6]\n",
      " [ 7  8  9]\n",
      " [10 11 12]]\n"
     ]
    }
   ],
   "source": [
    "#49\n",
    "#ndarray.reshape\n",
    "#Returns an array containing the same data with a new shape\n",
    "import numpy as np\n",
    "arr = np.array([1, 2, 3, 4, 5, 6, 7, 8, 9, 10, 11, 12])\n",
    "arr = arr.reshape(4, 3)\n",
    "print(arr)"
   ]
  },
  {
   "cell_type": "code",
   "execution_count": 56,
   "metadata": {
    "collapsed": false
   },
   "outputs": [
    {
     "name": "stdout",
     "output_type": "stream",
     "text": [
      "1\n"
     ]
    }
   ],
   "source": [
    "#50\n",
    "#ndarray.searchsorted\n",
    "#Find indices where elements of v should be inserted in a to maintain order\n",
    "import numpy as np\n",
    "arr = np.array([6, 7, 8, 9])\n",
    "x = np.searchsorted(arr, 7)\n",
    "print(x)"
   ]
  }
 ],
 "metadata": {
  "kernelspec": {
   "display_name": "Python 3 (system-wide)",
   "language": "python",
   "metadata": {
    "cocalc": {
     "description": "Python 3 programming language",
     "priority": 100,
     "url": "https://www.python.org/"
    }
   },
   "name": "python3",
   "resource_dir": "/ext/jupyter/kernels/python3"
  },
  "language_info": {
   "codemirror_mode": {
    "name": "ipython",
    "version": 3
   },
   "file_extension": ".py",
   "mimetype": "text/x-python",
   "name": "python",
   "nbconvert_exporter": "python",
   "pygments_lexer": "ipython3",
   "version": "3.8.5"
  }
 },
 "nbformat": 4,
 "nbformat_minor": 4
}