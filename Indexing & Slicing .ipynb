{
 "cells": [
  {
   "cell_type": "code",
   "execution_count": 1,
   "metadata": {},
   "outputs": [],
   "source": [
    "import numpy as np"
   ]
  },
  {
   "cell_type": "code",
   "execution_count": 2,
   "metadata": {},
   "outputs": [],
   "source": [
    "x = np.array([1, 7, 9, 8, 5])"
   ]
  },
  {
   "cell_type": "code",
   "execution_count": 3,
   "metadata": {},
   "outputs": [
    {
     "data": {
      "text/plain": [
       "array([1, 7, 9, 8, 5])"
      ]
     },
     "execution_count": 3,
     "metadata": {},
     "output_type": "execute_result"
    }
   ],
   "source": [
    "x"
   ]
  },
  {
   "cell_type": "code",
   "execution_count": 4,
   "metadata": {},
   "outputs": [],
   "source": [
    "#Indexing: Displays the element given position in array"
   ]
  },
  {
   "cell_type": "code",
   "execution_count": 5,
   "metadata": {},
   "outputs": [
    {
     "data": {
      "text/plain": [
       "5"
      ]
     },
     "execution_count": 5,
     "metadata": {},
     "output_type": "execute_result"
    }
   ],
   "source": [
    "x[4]"
   ]
  },
  {
   "cell_type": "code",
   "execution_count": 6,
   "metadata": {},
   "outputs": [],
   "source": [
    "#Boolean Indexing"
   ]
  },
  {
   "cell_type": "code",
   "execution_count": 7,
   "metadata": {},
   "outputs": [
    {
     "data": {
      "text/plain": [
       "array([7, 9, 8])"
      ]
     },
     "execution_count": 7,
     "metadata": {},
     "output_type": "execute_result"
    }
   ],
   "source": [
    "x[x>5]"
   ]
  },
  {
   "cell_type": "code",
   "execution_count": 8,
   "metadata": {},
   "outputs": [],
   "source": [
    "#Fancy Indexing: Displays the elemets in given position in array"
   ]
  },
  {
   "cell_type": "code",
   "execution_count": 9,
   "metadata": {},
   "outputs": [
    {
     "data": {
      "text/plain": [
       "array([9, 7])"
      ]
     },
     "execution_count": 9,
     "metadata": {},
     "output_type": "execute_result"
    }
   ],
   "source": [
    "x[[2,1]]"
   ]
  },
  {
   "cell_type": "code",
   "execution_count": 10,
   "metadata": {},
   "outputs": [],
   "source": [
    "#Slicing"
   ]
  },
  {
   "cell_type": "code",
   "execution_count": 12,
   "metadata": {},
   "outputs": [],
   "source": [
    "x = np.random.randn(10,10)"
   ]
  },
  {
   "cell_type": "code",
   "execution_count": 13,
   "metadata": {},
   "outputs": [
    {
     "data": {
      "text/plain": [
       "array([[ 7.98833345e-01, -1.53526403e+00,  1.37427575e+00,\n",
       "        -6.84738909e-01, -1.23105265e+00, -1.45627356e+00,\n",
       "         2.37451455e+00, -3.12010184e-01, -1.64490254e+00,\n",
       "        -1.90953727e-01],\n",
       "       [-1.73015884e+00,  3.43976756e-01,  6.85804468e-01,\n",
       "         1.91210807e-01,  2.67086900e-01, -4.51833078e-01,\n",
       "        -1.93339090e+00,  5.86682203e-01,  7.23719852e-01,\n",
       "        -4.04452736e-01],\n",
       "       [-5.11242329e-01, -4.33746110e-01,  1.44402126e+00,\n",
       "        -1.25576553e+00, -2.74523465e-03, -7.00670687e-02,\n",
       "        -2.60261033e-01, -1.07074276e+00,  1.17488480e+00,\n",
       "         1.87817602e+00],\n",
       "       [ 1.04662936e+00, -1.19366200e+00,  1.17998261e+00,\n",
       "         1.33647293e+00, -1.02853464e+00, -7.74146656e-01,\n",
       "         1.56082463e+00, -1.07326020e+00,  1.21209718e-02,\n",
       "         2.23567979e-01],\n",
       "       [-5.81830429e-01,  3.09145672e-01, -1.12205794e+00,\n",
       "        -2.17127032e-01,  9.69731754e-01,  1.87153425e+00,\n",
       "         1.71551621e-01,  6.75472016e-01,  5.83226393e-01,\n",
       "         3.55308767e+00],\n",
       "       [ 4.01440882e-01,  1.09321785e+00, -2.26254990e-01,\n",
       "        -1.16706523e+00,  1.64199342e-01, -3.72892597e-01,\n",
       "         8.65026568e-01,  1.17665478e-01,  3.46611725e-01,\n",
       "         4.16665486e-01],\n",
       "       [-1.81576399e+00, -3.89453824e-02, -1.10713773e+00,\n",
       "         3.67941415e-01,  2.08040212e-01,  9.19854037e-01,\n",
       "        -1.12275023e+00,  1.19695579e-01, -1.70902935e+00,\n",
       "         5.86620148e-01],\n",
       "       [ 1.30715917e+00, -3.28421127e-01,  2.49906793e-01,\n",
       "        -9.79751109e-03, -2.01867931e-01, -2.70104370e-01,\n",
       "        -9.31767498e-01, -1.53041779e+00,  5.66788456e-01,\n",
       "        -3.00746869e-01],\n",
       "       [-4.49623647e-01,  1.71748564e+00, -7.49463241e-01,\n",
       "         1.00218138e+00, -1.35300637e+00,  1.42992329e+00,\n",
       "        -5.50399770e-01, -5.89406616e-01,  3.59676122e-01,\n",
       "        -5.83215142e-01],\n",
       "       [ 7.03552395e-01, -2.53324169e+00,  1.60527043e+00,\n",
       "        -9.10189285e-01,  4.04532314e-01, -7.24304506e-01,\n",
       "         1.75742543e+00, -2.55097603e-01, -6.44420913e-02,\n",
       "        -3.34648068e-01]])"
      ]
     },
     "execution_count": 13,
     "metadata": {},
     "output_type": "execute_result"
    }
   ],
   "source": [
    "x"
   ]
  },
  {
   "cell_type": "code",
   "execution_count": 14,
   "metadata": {},
   "outputs": [],
   "source": [
    "#Print first row"
   ]
  },
  {
   "cell_type": "code",
   "execution_count": 15,
   "metadata": {},
   "outputs": [
    {
     "data": {
      "text/plain": [
       "array([ 0.79883334, -1.53526403,  1.37427575, -0.68473891, -1.23105265,\n",
       "       -1.45627356,  2.37451455, -0.31201018, -1.64490254, -0.19095373])"
      ]
     },
     "execution_count": 15,
     "metadata": {},
     "output_type": "execute_result"
    }
   ],
   "source": [
    "x[0]"
   ]
  },
  {
   "cell_type": "code",
   "execution_count": 16,
   "metadata": {},
   "outputs": [],
   "source": [
    "#Print first row's fifth column"
   ]
  },
  {
   "cell_type": "code",
   "execution_count": 17,
   "metadata": {},
   "outputs": [
    {
     "data": {
      "text/plain": [
       "-1.2310526453725052"
      ]
     },
     "execution_count": 17,
     "metadata": {},
     "output_type": "execute_result"
    }
   ],
   "source": [
    "x[0][4]"
   ]
  },
  {
   "cell_type": "code",
   "execution_count": 19,
   "metadata": {},
   "outputs": [
    {
     "data": {
      "text/plain": [
       "array([[-1.73015884,  0.34397676,  0.68580447,  0.19121081,  0.2670869 ,\n",
       "        -0.45183308, -1.9333909 ,  0.5866822 ,  0.72371985, -0.40445274],\n",
       "       [ 1.04662936, -1.193662  ,  1.17998261,  1.33647293, -1.02853464,\n",
       "        -0.77414666,  1.56082463, -1.0732602 ,  0.01212097,  0.22356798],\n",
       "       [ 0.40144088,  1.09321785, -0.22625499, -1.16706523,  0.16419934,\n",
       "        -0.3728926 ,  0.86502657,  0.11766548,  0.34661172,  0.41666549],\n",
       "       [ 1.30715917, -0.32842113,  0.24990679, -0.00979751, -0.20186793,\n",
       "        -0.27010437, -0.9317675 , -1.53041779,  0.56678846, -0.30074687],\n",
       "       [ 0.7035524 , -2.53324169,  1.60527043, -0.91018928,  0.40453231,\n",
       "        -0.72430451,  1.75742543, -0.2550976 , -0.06444209, -0.33464807]])"
      ]
     },
     "execution_count": 19,
     "metadata": {},
     "output_type": "execute_result"
    }
   ],
   "source": [
    "x[1:10:2,::]"
   ]
  },
  {
   "cell_type": "code",
   "execution_count": 20,
   "metadata": {},
   "outputs": [
    {
     "data": {
      "text/plain": [
       "array([[ 0.79883334, -1.53526403,  1.37427575, -0.68473891],\n",
       "       [-1.73015884,  0.34397676,  0.68580447,  0.19121081],\n",
       "       [-0.51124233, -0.43374611,  1.44402126, -1.25576553],\n",
       "       [ 1.04662936, -1.193662  ,  1.17998261,  1.33647293],\n",
       "       [-0.58183043,  0.30914567, -1.12205794, -0.21712703],\n",
       "       [ 0.40144088,  1.09321785, -0.22625499, -1.16706523],\n",
       "       [-1.81576399, -0.03894538, -1.10713773,  0.36794142],\n",
       "       [ 1.30715917, -0.32842113,  0.24990679, -0.00979751],\n",
       "       [-0.44962365,  1.71748564, -0.74946324,  1.00218138],\n",
       "       [ 0.7035524 , -2.53324169,  1.60527043, -0.91018928]])"
      ]
     },
     "execution_count": 20,
     "metadata": {},
     "output_type": "execute_result"
    }
   ],
   "source": [
    "x[::,0:4]"
   ]
  },
  {
   "cell_type": "code",
   "execution_count": 22,
   "metadata": {},
   "outputs": [],
   "source": [
    "x = np.ones((5,5))"
   ]
  },
  {
   "cell_type": "code",
   "execution_count": 23,
   "metadata": {},
   "outputs": [
    {
     "data": {
      "text/plain": [
       "array([[1., 1., 1., 1., 1.],\n",
       "       [1., 1., 1., 1., 1.],\n",
       "       [1., 1., 1., 1., 1.],\n",
       "       [1., 1., 1., 1., 1.],\n",
       "       [1., 1., 1., 1., 1.]])"
      ]
     },
     "execution_count": 23,
     "metadata": {},
     "output_type": "execute_result"
    }
   ],
   "source": [
    "x"
   ]
  },
  {
   "cell_type": "code",
   "execution_count": 26,
   "metadata": {},
   "outputs": [],
   "source": [
    "x[1:-1,1:-1] = 0"
   ]
  },
  {
   "cell_type": "code",
   "execution_count": 27,
   "metadata": {},
   "outputs": [
    {
     "data": {
      "text/plain": [
       "array([[1., 1., 1., 1., 1.],\n",
       "       [1., 0., 0., 0., 1.],\n",
       "       [1., 0., 0., 0., 1.],\n",
       "       [1., 0., 0., 0., 1.],\n",
       "       [1., 1., 1., 1., 1.]])"
      ]
     },
     "execution_count": 27,
     "metadata": {},
     "output_type": "execute_result"
    }
   ],
   "source": [
    "x"
   ]
  }
 ],
 "metadata": {
  "kernelspec": {
   "display_name": "Python 3",
   "language": "python",
   "name": "python3"
  },
  "language_info": {
   "codemirror_mode": {
    "name": "ipython",
    "version": 3
   },
   "file_extension": ".py",
   "mimetype": "text/x-python",
   "name": "python",
   "nbconvert_exporter": "python",
   "pygments_lexer": "ipython3",
   "version": "3.6.11"
  }
 },
 "nbformat": 4,
 "nbformat_minor": 4
}
